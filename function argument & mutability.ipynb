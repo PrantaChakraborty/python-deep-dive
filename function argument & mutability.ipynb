{
 "cells": [
  {
   "cell_type": "code",
   "execution_count": 6,
   "id": "5f4ac2d5",
   "metadata": {},
   "outputs": [
    {
     "name": "stdout",
     "output_type": "stream",
     "text": [
      "initial s # is  140396115834544\n",
      "final s # is 140396112950448\n",
      "hello world\n",
      "hello\n"
     ]
    }
   ],
   "source": [
    "def process(s):\n",
    "    print(\"initial s # is \", id(s))\n",
    "    s = s + \" world\"\n",
    "    print('final s # is', id(s))\n",
    "    return s\n",
    "\n",
    "my_var = \"hello\"\n",
    "print(process(my_var))  # s will be pointing to another memory address\n",
    "print(my_var) # my_var still same "
   ]
  },
  {
   "cell_type": "markdown",
   "id": "6203e82e",
   "metadata": {},
   "source": [
    "mutable objects are not safe from unintended side-effects"
   ]
  },
  {
   "cell_type": "code",
   "execution_count": 8,
   "id": "9741c67d",
   "metadata": {},
   "outputs": [
    {
     "name": "stdout",
     "output_type": "stream",
     "text": [
      "memory of my_list 140396043974720\n",
      "initial list # 140396043974720\n",
      "after append #  140396043974720\n",
      "[1, 2, 3, 5]\n",
      "[1, 2, 3, 5]\n"
     ]
    }
   ],
   "source": [
    "def process(lst):\n",
    "    print('initial list #', id(lst))\n",
    "    lst.append(5)\n",
    "    print('after append # ', id(lst))\n",
    "    return lst\n",
    "\n",
    "my_list = [1, 2, 3]\n",
    "print('memory of my_list', id(my_list))\n",
    "print(process(my_list)) # my_list is modified and will be [1, 2, 3, 5]\n",
    "print(my_list)"
   ]
  },
  {
   "cell_type": "markdown",
   "id": "95fb7b50",
   "metadata": {},
   "source": [
    "immutable object can't change, but if the immutable object contains mutable object then it can change "
   ]
  },
  {
   "cell_type": "code",
   "execution_count": 10,
   "id": "c16750e6",
   "metadata": {},
   "outputs": [],
   "source": [
    "def modify_tuple(t):\n",
    "    print('initial t # =', id(t))\n",
    "    t[0].append(100)\n",
    "    print('final t # =', id(t))\n",
    "    \n",
    "\n"
   ]
  },
  {
   "cell_type": "code",
   "execution_count": 11,
   "id": "a097f128",
   "metadata": {},
   "outputs": [],
   "source": [
    "my_tuple = ([1, 2], 'a')"
   ]
  },
  {
   "cell_type": "code",
   "execution_count": 12,
   "id": "4d8e5553",
   "metadata": {},
   "outputs": [
    {
     "data": {
      "text/plain": [
       "140396112236096"
      ]
     },
     "execution_count": 12,
     "metadata": {},
     "output_type": "execute_result"
    }
   ],
   "source": [
    "id(my_tuple)"
   ]
  },
  {
   "cell_type": "code",
   "execution_count": 13,
   "id": "407c749c",
   "metadata": {},
   "outputs": [
    {
     "name": "stdout",
     "output_type": "stream",
     "text": [
      "initial t # = 140396112236096\n",
      "final t # = 140396112236096\n"
     ]
    }
   ],
   "source": [
    "modify_tuple(my_tuple)"
   ]
  },
  {
   "cell_type": "code",
   "execution_count": 14,
   "id": "6dacd99f",
   "metadata": {},
   "outputs": [
    {
     "data": {
      "text/plain": [
       "([1, 2, 100], 'a')"
      ]
     },
     "execution_count": 14,
     "metadata": {},
     "output_type": "execute_result"
    }
   ],
   "source": [
    "my_tuple"
   ]
  },
  {
   "cell_type": "code",
   "execution_count": null,
   "id": "a3f0b266",
   "metadata": {},
   "outputs": [],
   "source": []
  }
 ],
 "metadata": {
  "kernelspec": {
   "display_name": "Python 3 (ipykernel)",
   "language": "python",
   "name": "python3"
  },
  "language_info": {
   "codemirror_mode": {
    "name": "ipython",
    "version": 3
   },
   "file_extension": ".py",
   "mimetype": "text/x-python",
   "name": "python",
   "nbconvert_exporter": "python",
   "pygments_lexer": "ipython3",
   "version": "3.10.6"
  }
 },
 "nbformat": 4,
 "nbformat_minor": 5
}
