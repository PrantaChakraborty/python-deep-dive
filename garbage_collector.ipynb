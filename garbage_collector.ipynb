{
 "cells": [
  {
   "cell_type": "code",
   "execution_count": 1,
   "id": "aeb5d387",
   "metadata": {},
   "outputs": [],
   "source": [
    "import ctypes\n",
    "import gc  # garbage collector"
   ]
  },
  {
   "cell_type": "code",
   "execution_count": 2,
   "id": "0c59d51d",
   "metadata": {},
   "outputs": [],
   "source": [
    "def ref_count(address): \n",
    "    return ctypes.c_long.from_address(address).value"
   ]
  },
  {
   "cell_type": "code",
   "execution_count": 3,
   "id": "3d91aff0",
   "metadata": {},
   "outputs": [],
   "source": [
    "def object_by_id(object_id):\n",
    "    \"\"\"\n",
    "    look the gc for ojects\n",
    "    \"\"\"\n",
    "    for obj in gc.get_objects():\n",
    "        if id(obj) == object_id:\n",
    "            return  \"object exists\"\n",
    "    return \"not found\""
   ]
  },
  {
   "cell_type": "code",
   "execution_count": 4,
   "id": "ec0ef1ca",
   "metadata": {},
   "outputs": [],
   "source": [
    "class A:\n",
    "    def __init__(self):\n",
    "        self.b = B(self)\n",
    "        print(f\"A: self {hex(id(self))} b: {hex(id(self.b))}\")"
   ]
  },
  {
   "cell_type": "code",
   "execution_count": 5,
   "id": "d3ce05c1",
   "metadata": {},
   "outputs": [],
   "source": [
    "class B:\n",
    "    def __init__(self, a):\n",
    "        self.a = a\n",
    "        print(f\"B: self {hex(id(self))} a: {hex(id(self.a))}\")"
   ]
  },
  {
   "cell_type": "code",
   "execution_count": 68,
   "id": "54c90650",
   "metadata": {},
   "outputs": [],
   "source": [
    "gc.disable() # disable the garbage collector"
   ]
  },
  {
   "cell_type": "code",
   "execution_count": 69,
   "id": "28421b34",
   "metadata": {},
   "outputs": [
    {
     "name": "stdout",
     "output_type": "stream",
     "text": [
      "B: self 0x7f84c4e974c0 a: 0x7f84c4eefc40\n",
      "A: self 0x7f84c4eefc40 b: 0x7f84c4e974c0\n"
     ]
    }
   ],
   "source": [
    "my_var = A()"
   ]
  },
  {
   "cell_type": "code",
   "execution_count": 70,
   "id": "5a84ad2d",
   "metadata": {},
   "outputs": [
    {
     "data": {
      "text/plain": [
       "'0x7f84c4eefc40'"
      ]
     },
     "execution_count": 70,
     "metadata": {},
     "output_type": "execute_result"
    }
   ],
   "source": [
    " hex(id(my_var))"
   ]
  },
  {
   "cell_type": "code",
   "execution_count": 71,
   "id": "c8e33ebe",
   "metadata": {},
   "outputs": [
    {
     "name": "stdout",
     "output_type": "stream",
     "text": [
      "0x7f84c4e974c0\n",
      "0x7f84c4eefc40\n"
     ]
    }
   ],
   "source": [
    "print(hex(id(my_var.b)))\n",
    "print(hex(id(my_var.b.a)))"
   ]
  },
  {
   "cell_type": "code",
   "execution_count": 72,
   "id": "4b6eae63",
   "metadata": {},
   "outputs": [],
   "source": [
    "a_id = id(my_var)\n",
    "b_id = id(my_var.b)"
   ]
  },
  {
   "cell_type": "code",
   "execution_count": 73,
   "id": "cc74a24c",
   "metadata": {},
   "outputs": [
    {
     "data": {
      "text/plain": [
       "2"
      ]
     },
     "execution_count": 73,
     "metadata": {},
     "output_type": "execute_result"
    }
   ],
   "source": [
    "ref_count(a_id) # will be 2, because my_var is pointing to A and B is pointing to A"
   ]
  },
  {
   "cell_type": "code",
   "execution_count": 74,
   "id": "62963822",
   "metadata": {},
   "outputs": [
    {
     "data": {
      "text/plain": [
       "1"
      ]
     },
     "execution_count": 74,
     "metadata": {},
     "output_type": "execute_result"
    }
   ],
   "source": [
    "ref_count(b_id) # wil be 1, because A is pointing to B"
   ]
  },
  {
   "cell_type": "code",
   "execution_count": 75,
   "id": "b20cf977",
   "metadata": {},
   "outputs": [
    {
     "data": {
      "text/plain": [
       "'object exists'"
      ]
     },
     "execution_count": 75,
     "metadata": {},
     "output_type": "execute_result"
    }
   ],
   "source": [
    "object_by_id(a_id)"
   ]
  },
  {
   "cell_type": "code",
   "execution_count": 76,
   "id": "478fd41c",
   "metadata": {},
   "outputs": [
    {
     "data": {
      "text/plain": [
       "'object exists'"
      ]
     },
     "execution_count": 76,
     "metadata": {},
     "output_type": "execute_result"
    }
   ],
   "source": [
    "object_by_id(b_id)"
   ]
  },
  {
   "cell_type": "code",
   "execution_count": 77,
   "id": "89a414f0",
   "metadata": {},
   "outputs": [],
   "source": [
    "my_var = None # destroying the reference"
   ]
  },
  {
   "cell_type": "code",
   "execution_count": 78,
   "id": "3fe70ad9",
   "metadata": {},
   "outputs": [
    {
     "data": {
      "text/plain": [
       "1"
      ]
     },
     "execution_count": 78,
     "metadata": {},
     "output_type": "execute_result"
    }
   ],
   "source": [
    "ref_count(a_id) # will return 1 because of B still pointing to A, and cause a circular import"
   ]
  },
  {
   "cell_type": "code",
   "execution_count": 79,
   "id": "58f14bda",
   "metadata": {},
   "outputs": [
    {
     "data": {
      "text/plain": [
       "1"
      ]
     },
     "execution_count": 79,
     "metadata": {},
     "output_type": "execute_result"
    }
   ],
   "source": [
    "ref_count(b_id) # will return 1 because of A still pointing to B, and cause a circular import"
   ]
  },
  {
   "cell_type": "code",
   "execution_count": 80,
   "id": "52746cae",
   "metadata": {},
   "outputs": [
    {
     "data": {
      "text/plain": [
       "'object exists'"
      ]
     },
     "execution_count": 80,
     "metadata": {},
     "output_type": "execute_result"
    }
   ],
   "source": [
    "object_by_id(a_id)"
   ]
  },
  {
   "cell_type": "code",
   "execution_count": 81,
   "id": "6ec45e19",
   "metadata": {},
   "outputs": [
    {
     "data": {
      "text/plain": [
       "'object exists'"
      ]
     },
     "execution_count": 81,
     "metadata": {},
     "output_type": "execute_result"
    }
   ],
   "source": [
    "object_by_id(b_id)"
   ]
  },
  {
   "cell_type": "code",
   "execution_count": 82,
   "id": "5ea22290",
   "metadata": {},
   "outputs": [
    {
     "data": {
      "text/plain": [
       "4"
      ]
     },
     "execution_count": 82,
     "metadata": {},
     "output_type": "execute_result"
    }
   ],
   "source": [
    "gc.collect() # run the garbage collector"
   ]
  },
  {
   "cell_type": "code",
   "execution_count": 83,
   "id": "ea17c99a",
   "metadata": {},
   "outputs": [],
   "source": [
    "# will return not found, because gc collects the garbage"
   ]
  },
  {
   "cell_type": "code",
   "execution_count": 84,
   "id": "f41eeb7d",
   "metadata": {},
   "outputs": [
    {
     "data": {
      "text/plain": [
       "'not found'"
      ]
     },
     "execution_count": 84,
     "metadata": {},
     "output_type": "execute_result"
    }
   ],
   "source": [
    "object_by_id(a_id) "
   ]
  },
  {
   "cell_type": "code",
   "execution_count": 85,
   "id": "7949bf7b",
   "metadata": {},
   "outputs": [
    {
     "data": {
      "text/plain": [
       "'not found'"
      ]
     },
     "execution_count": 85,
     "metadata": {},
     "output_type": "execute_result"
    }
   ],
   "source": [
    "object_by_id(b_id) "
   ]
  },
  {
   "cell_type": "code",
   "execution_count": 86,
   "id": "dee8a4ae",
   "metadata": {},
   "outputs": [
    {
     "data": {
      "text/plain": [
       "2"
      ]
     },
     "execution_count": 86,
     "metadata": {},
     "output_type": "execute_result"
    }
   ],
   "source": [
    "ref_count(a_id)"
   ]
  },
  {
   "cell_type": "code",
   "execution_count": 88,
   "id": "d70d4f78",
   "metadata": {},
   "outputs": [
    {
     "data": {
      "text/plain": [
       "0"
      ]
     },
     "execution_count": 88,
     "metadata": {},
     "output_type": "execute_result"
    }
   ],
   "source": [
    "ref_count(b_id)"
   ]
  },
  {
   "cell_type": "code",
   "execution_count": 89,
   "id": "94cb8928",
   "metadata": {},
   "outputs": [
    {
     "data": {
      "text/plain": [
       "1"
      ]
     },
     "execution_count": 89,
     "metadata": {},
     "output_type": "execute_result"
    }
   ],
   "source": [
    "ref_count(a_id)"
   ]
  },
  {
   "cell_type": "code",
   "execution_count": 90,
   "id": "e9ce24cb",
   "metadata": {},
   "outputs": [
    {
     "data": {
      "text/plain": [
       "0"
      ]
     },
     "execution_count": 90,
     "metadata": {},
     "output_type": "execute_result"
    }
   ],
   "source": [
    "ref_count(b_id)"
   ]
  },
  {
   "cell_type": "code",
   "execution_count": 91,
   "id": "f82f0927",
   "metadata": {},
   "outputs": [
    {
     "data": {
      "text/plain": [
       "'not found'"
      ]
     },
     "execution_count": 91,
     "metadata": {},
     "output_type": "execute_result"
    }
   ],
   "source": [
    "object_by_id(a_id)"
   ]
  },
  {
   "cell_type": "code",
   "execution_count": 92,
   "id": "0d213658",
   "metadata": {},
   "outputs": [
    {
     "data": {
      "text/plain": [
       "1"
      ]
     },
     "execution_count": 92,
     "metadata": {},
     "output_type": "execute_result"
    }
   ],
   "source": [
    "ref_count(a_id)"
   ]
  },
  {
   "cell_type": "markdown",
   "id": "7fa41765",
   "metadata": {},
   "source": [
    " Note: don't try to disable the garbage collector, unless you know exactly what are you doint, when the garbage collector run\n",
    "        it remove all the circular imports, the ref_count() is showing different value, "
   ]
  },
  {
   "cell_type": "code",
   "execution_count": null,
   "id": "3ee70292",
   "metadata": {},
   "outputs": [],
   "source": []
  }
 ],
 "metadata": {
  "kernelspec": {
   "display_name": "Python 3 (ipykernel)",
   "language": "python",
   "name": "python3"
  },
  "language_info": {
   "codemirror_mode": {
    "name": "ipython",
    "version": 3
   },
   "file_extension": ".py",
   "mimetype": "text/x-python",
   "name": "python",
   "nbconvert_exporter": "python",
   "pygments_lexer": "ipython3",
   "version": "3.10.6"
  }
 },
 "nbformat": 4,
 "nbformat_minor": 5
}
