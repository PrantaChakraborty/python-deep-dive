{
 "cells": [
  {
   "cell_type": "code",
   "execution_count": 1,
   "id": "680b6248",
   "metadata": {},
   "outputs": [],
   "source": [
    "import ctypes\n",
    "import gc  # garbage collector"
   ]
  },
  {
   "cell_type": "code",
   "execution_count": 2,
   "id": "10904bd2",
   "metadata": {},
   "outputs": [],
   "source": [
    "def ref_count(address): \n",
    "    return ctypes.c_long.from_address(address).value"
   ]
  },
  {
   "cell_type": "code",
   "execution_count": 3,
   "id": "6b122e20",
   "metadata": {},
   "outputs": [],
   "source": [
    "def object_by_id(object_id):\n",
    "    \"\"\"\n",
    "    look the gc for ojects\n",
    "    \"\"\"\n",
    "    for obj in gc.get_objects():\n",
    "        if id(obj) == object_id:\n",
    "            return  \"object exists\"\n",
    "    return \"not found\""
   ]
  },
  {
   "cell_type": "code",
   "execution_count": 4,
   "id": "393abdfd",
   "metadata": {},
   "outputs": [],
   "source": [
    "class A:\n",
    "    def __init__(self):\n",
    "        self.b = B(self)\n",
    "        print(f\"A: self {hex(id(self))} b: {hex(id(self.b))}\")"
   ]
  },
  {
   "cell_type": "code",
   "execution_count": 5,
   "id": "bc31d231",
   "metadata": {},
   "outputs": [],
   "source": [
    "class B:\n",
    "    def __init__(self, a):\n",
    "        self.a = a\n",
    "        print(f\"B: self {hex(id(self))} a: {hex(id(self.a))}\")"
   ]
  },
  {
   "cell_type": "code",
   "execution_count": 68,
   "id": "90fcf7da",
   "metadata": {},
   "outputs": [],
   "source": [
    "gc.disable() # disable the garbage collector"
   ]
  },
  {
   "cell_type": "code",
   "execution_count": 69,
   "id": "e20a3272",
   "metadata": {},
   "outputs": [
    {
     "name": "stdout",
     "output_type": "stream",
     "text": [
      "B: self 0x7f84c4e974c0 a: 0x7f84c4eefc40\n",
      "A: self 0x7f84c4eefc40 b: 0x7f84c4e974c0\n"
     ]
    }
   ],
   "source": [
    "my_var = A()"
   ]
  },
  {
   "cell_type": "code",
   "execution_count": 70,
   "id": "2fc31da9",
   "metadata": {},
   "outputs": [
    {
     "data": {
      "text/plain": [
       "'0x7f84c4eefc40'"
      ]
     },
     "execution_count": 70,
     "metadata": {},
     "output_type": "execute_result"
    }
   ],
   "source": [
    " hex(id(my_var))"
   ]
  },
  {
   "cell_type": "code",
   "execution_count": 71,
   "id": "7077a570",
   "metadata": {},
   "outputs": [
    {
     "name": "stdout",
     "output_type": "stream",
     "text": [
      "0x7f84c4e974c0\n",
      "0x7f84c4eefc40\n"
     ]
    }
   ],
   "source": [
    "print(hex(id(my_var.b)))\n",
    "print(hex(id(my_var.b.a)))"
   ]
  },
  {
   "cell_type": "code",
   "execution_count": 72,
   "id": "9e2c321b",
   "metadata": {},
   "outputs": [],
   "source": [
    "a_id = id(my_var)\n",
    "b_id = id(my_var.b)"
   ]
  },
  {
   "cell_type": "code",
   "execution_count": 73,
   "id": "676206bb",
   "metadata": {},
   "outputs": [
    {
     "data": {
      "text/plain": [
       "2"
      ]
     },
     "execution_count": 73,
     "metadata": {},
     "output_type": "execute_result"
    }
   ],
   "source": [
    "ref_count(a_id) # will be 2, because my_var is pointing to A and B is pointing to A"
   ]
  },
  {
   "cell_type": "code",
   "execution_count": 74,
   "id": "236903ea",
   "metadata": {},
   "outputs": [
    {
     "data": {
      "text/plain": [
       "1"
      ]
     },
     "execution_count": 74,
     "metadata": {},
     "output_type": "execute_result"
    }
   ],
   "source": [
    "ref_count(b_id) # wil be 1, because A is pointing to B"
   ]
  },
  {
   "cell_type": "code",
   "execution_count": 75,
   "id": "edf241a8",
   "metadata": {},
   "outputs": [
    {
     "data": {
      "text/plain": [
       "'object exists'"
      ]
     },
     "execution_count": 75,
     "metadata": {},
     "output_type": "execute_result"
    }
   ],
   "source": [
    "object_by_id(a_id)"
   ]
  },
  {
   "cell_type": "code",
   "execution_count": 76,
   "id": "69f625f0",
   "metadata": {},
   "outputs": [
    {
     "data": {
      "text/plain": [
       "'object exists'"
      ]
     },
     "execution_count": 76,
     "metadata": {},
     "output_type": "execute_result"
    }
   ],
   "source": [
    "object_by_id(b_id)"
   ]
  },
  {
   "cell_type": "code",
   "execution_count": 77,
   "id": "f2d2fdc5",
   "metadata": {},
   "outputs": [],
   "source": [
    "my_var = None # destroying the reference"
   ]
  },
  {
   "cell_type": "code",
   "execution_count": 78,
   "id": "6e4a6198",
   "metadata": {},
   "outputs": [
    {
     "data": {
      "text/plain": [
       "1"
      ]
     },
     "execution_count": 78,
     "metadata": {},
     "output_type": "execute_result"
    }
   ],
   "source": [
    "ref_count(a_id) # will return 1 because of B still pointing to A, and cause a circular import"
   ]
  },
  {
   "cell_type": "code",
   "execution_count": 79,
   "id": "6a54656e",
   "metadata": {},
   "outputs": [
    {
     "data": {
      "text/plain": [
       "1"
      ]
     },
     "execution_count": 79,
     "metadata": {},
     "output_type": "execute_result"
    }
   ],
   "source": [
    "ref_count(b_id) # will return 1 because of A still pointing to B, and cause a circular import"
   ]
  },
  {
   "cell_type": "code",
   "execution_count": 80,
   "id": "d105eac1",
   "metadata": {},
   "outputs": [
    {
     "data": {
      "text/plain": [
       "'object exists'"
      ]
     },
     "execution_count": 80,
     "metadata": {},
     "output_type": "execute_result"
    }
   ],
   "source": [
    "object_by_id(a_id)"
   ]
  },
  {
   "cell_type": "code",
   "execution_count": 81,
   "id": "d4716035",
   "metadata": {},
   "outputs": [
    {
     "data": {
      "text/plain": [
       "'object exists'"
      ]
     },
     "execution_count": 81,
     "metadata": {},
     "output_type": "execute_result"
    }
   ],
   "source": [
    "object_by_id(b_id)"
   ]
  },
  {
   "cell_type": "code",
   "execution_count": 82,
   "id": "6c48232e",
   "metadata": {},
   "outputs": [
    {
     "data": {
      "text/plain": [
       "4"
      ]
     },
     "execution_count": 82,
     "metadata": {},
     "output_type": "execute_result"
    }
   ],
   "source": [
    "gc.collect() # run the garbage collector"
   ]
  },
  {
   "cell_type": "code",
   "execution_count": 83,
   "id": "4de8c2f7",
   "metadata": {},
   "outputs": [],
   "source": [
    "# will return not found, because gc collects the garbage"
   ]
  },
  {
   "cell_type": "code",
   "execution_count": 84,
   "id": "fb3c7ce6",
   "metadata": {},
   "outputs": [
    {
     "data": {
      "text/plain": [
       "'not found'"
      ]
     },
     "execution_count": 84,
     "metadata": {},
     "output_type": "execute_result"
    }
   ],
   "source": [
    "object_by_id(a_id) "
   ]
  },
  {
   "cell_type": "code",
   "execution_count": 85,
   "id": "b2fc2c0a",
   "metadata": {},
   "outputs": [
    {
     "data": {
      "text/plain": [
       "'not found'"
      ]
     },
     "execution_count": 85,
     "metadata": {},
     "output_type": "execute_result"
    }
   ],
   "source": [
    "object_by_id(b_id) "
   ]
  },
  {
   "cell_type": "code",
   "execution_count": 86,
   "id": "4049c40f",
   "metadata": {},
   "outputs": [
    {
     "data": {
      "text/plain": [
       "2"
      ]
     },
     "execution_count": 86,
     "metadata": {},
     "output_type": "execute_result"
    }
   ],
   "source": [
    "ref_count(a_id)"
   ]
  },
  {
   "cell_type": "code",
   "execution_count": 88,
   "id": "6c026281",
   "metadata": {},
   "outputs": [
    {
     "data": {
      "text/plain": [
       "0"
      ]
     },
     "execution_count": 88,
     "metadata": {},
     "output_type": "execute_result"
    }
   ],
   "source": [
    "ref_count(b_id)"
   ]
  },
  {
   "cell_type": "code",
   "execution_count": 89,
   "id": "efa55133",
   "metadata": {},
   "outputs": [
    {
     "data": {
      "text/plain": [
       "1"
      ]
     },
     "execution_count": 89,
     "metadata": {},
     "output_type": "execute_result"
    }
   ],
   "source": [
    "ref_count(a_id)"
   ]
  },
  {
   "cell_type": "code",
   "execution_count": 90,
   "id": "54f9911a",
   "metadata": {},
   "outputs": [
    {
     "data": {
      "text/plain": [
       "0"
      ]
     },
     "execution_count": 90,
     "metadata": {},
     "output_type": "execute_result"
    }
   ],
   "source": [
    "ref_count(b_id)"
   ]
  },
  {
   "cell_type": "code",
   "execution_count": 91,
   "id": "8dda3f05",
   "metadata": {},
   "outputs": [
    {
     "data": {
      "text/plain": [
       "'not found'"
      ]
     },
     "execution_count": 91,
     "metadata": {},
     "output_type": "execute_result"
    }
   ],
   "source": [
    "object_by_id(a_id)"
   ]
  },
  {
   "cell_type": "code",
   "execution_count": 92,
   "id": "203c279b",
   "metadata": {},
   "outputs": [
    {
     "data": {
      "text/plain": [
       "1"
      ]
     },
     "execution_count": 92,
     "metadata": {},
     "output_type": "execute_result"
    }
   ],
   "source": [
    "ref_count(a_id)"
   ]
  },
  {
   "cell_type": "markdown",
   "id": "e7b744e0",
   "metadata": {},
   "source": [
    " Note: don't try to disable the garbage collector, unless you know exactly what are you doint, when the garbage collector run\n",
    "        it remove all the circular imports, the ref_count() is showing different value, "
   ]
  },
  {
   "cell_type": "code",
   "execution_count": null,
   "id": "30daa50a",
   "metadata": {},
   "outputs": [],
   "source": []
  }
 ],
 "metadata": {
  "kernelspec": {
   "display_name": "Python 3 (ipykernel)",
   "language": "python",
   "name": "python3"
  },
  "language_info": {
   "codemirror_mode": {
    "name": "ipython",
    "version": 3
   },
   "file_extension": ".py",
   "mimetype": "text/x-python",
   "name": "python",
   "nbconvert_exporter": "python",
   "pygments_lexer": "ipython3",
   "version": "3.10.6"
  }
 },
 "nbformat": 4,
 "nbformat_minor": 5
}
