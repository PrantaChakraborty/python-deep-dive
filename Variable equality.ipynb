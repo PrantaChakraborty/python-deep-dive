{
 "cells": [
  {
   "cell_type": "markdown",
   "id": "ed2c2ff6",
   "metadata": {},
   "source": [
    "The two expression returns True, because two varialbes are immutable and sharing same reference"
   ]
  },
  {
   "cell_type": "code",
   "execution_count": 4,
   "id": "ef0db57c",
   "metadata": {},
   "outputs": [
    {
     "name": "stdout",
     "output_type": "stream",
     "text": [
      "True\n",
      "True\n"
     ]
    }
   ],
   "source": [
    "a = 10\n",
    "b = a\n",
    "\"\"\"\n",
    "the 'is' keyword use to compare the memory address like id(a)\n",
    "\"\"\"\n",
    "print(a is b) # True\n",
    "print(a==b) # True"
   ]
  },
  {
   "cell_type": "code",
   "execution_count": 13,
   "id": "721a0078",
   "metadata": {},
   "outputs": [
    {
     "name": "stdout",
     "output_type": "stream",
     "text": [
      "True\n",
      "True\n",
      "139976018664176 139976018664176\n"
     ]
    }
   ],
   "source": [
    "a = 'hello'\n",
    "b = 'hello'\n",
    "print(a is b)\n",
    "print(a==b)  # both has same value, and that are immutable so reference is shared\n",
    "print(id(a), id(b))"
   ]
  },
  {
   "cell_type": "code",
   "execution_count": 6,
   "id": "991a8b7c",
   "metadata": {},
   "outputs": [
    {
     "name": "stdout",
     "output_type": "stream",
     "text": [
      "False\n",
      "True\n"
     ]
    }
   ],
   "source": [
    "a = [1, 2, 3]\n",
    "b = [1, 2, 3]\n",
    "print(a is b) # False, because different memory addres\n",
    "print(a==b) # True, the values are same"
   ]
  },
  {
   "cell_type": "code",
   "execution_count": 10,
   "id": "b7a98bc2",
   "metadata": {},
   "outputs": [
    {
     "name": "stdout",
     "output_type": "stream",
     "text": [
      "False\n",
      "True\n"
     ]
    }
   ],
   "source": [
    "a = 10\n",
    "b = 10.0\n",
    "print(a is b) # False, both are separate numbers, so no shared reference\n",
    "print(a == b) # True, both values are same\n"
   ]
  },
  {
   "cell_type": "markdown",
   "id": "6923bd99",
   "metadata": {},
   "source": [
    "The None object can be assigned to variables to indicate that they are not set. when assign multiple variables\n",
    "None, they share the same reference"
   ]
  },
  {
   "cell_type": "code",
   "execution_count": 11,
   "id": "bf2980ca",
   "metadata": {},
   "outputs": [
    {
     "name": "stdout",
     "output_type": "stream",
     "text": [
      "The memory address for a: 94074771612640, b: 94074771612640, c: 94074771612640\n"
     ]
    }
   ],
   "source": [
    "a = None\n",
    "b = None\n",
    "c = None\n",
    "print(f\"The memory address for a: {id(a)}, b: {id(b)}, c: {id(c)}\")"
   ]
  },
  {
   "cell_type": "code",
   "execution_count": 22,
   "id": "2b890dd0",
   "metadata": {},
   "outputs": [
    {
     "data": {
      "text/plain": [
       "94074771612640"
      ]
     },
     "execution_count": 22,
     "metadata": {},
     "output_type": "execute_result"
    }
   ],
   "source": [
    "id(None)"
   ]
  },
  {
   "cell_type": "markdown",
   "id": "45d14761",
   "metadata": {},
   "source": [
    "In Python, small integer values (usually between -5 and 256) are cached and shared in\n",
    "memory to improve efficiency. This means that when you create two variables with the\n",
    "same small integer value, like a = 10 and b = 10, they will typically reference the same memory address.\n",
    "\n",
    "However, this behavior doesn't apply to larger integer values. When you set both a and b\n",
    "to 500, they are not small integers, so they are not cached, and Python creates separate\n",
    "objects in memory for each of them, resulting in different memory addresses."
   ]
  },
  {
   "cell_type": "code",
   "execution_count": 23,
   "id": "7f563a1e",
   "metadata": {},
   "outputs": [
    {
     "name": "stdout",
     "output_type": "stream",
     "text": [
      "139976015312560 139976015312400\n",
      "False\n"
     ]
    }
   ],
   "source": [
    "a = 257\n",
    "b = 257\n",
    "print(id(a), id(b))\n",
    "print(a is b)"
   ]
  },
  {
   "cell_type": "code",
   "execution_count": 25,
   "id": "458f0478",
   "metadata": {},
   "outputs": [
    {
     "name": "stdout",
     "output_type": "stream",
     "text": [
      "a is b False\n",
      "a == b True\n"
     ]
    }
   ],
   "source": [
    "a = 10 + 0j\n",
    "b = 10.0\n",
    "print(\"a is b\", a is b) # False\n",
    "print('a == b', a == b) # True, values are same"
   ]
  },
  {
   "cell_type": "code",
   "execution_count": null,
   "id": "9ef75e1b",
   "metadata": {},
   "outputs": [],
   "source": []
  }
 ],
 "metadata": {
  "kernelspec": {
   "display_name": "Python 3 (ipykernel)",
   "language": "python",
   "name": "python3"
  },
  "language_info": {
   "codemirror_mode": {
    "name": "ipython",
    "version": 3
   },
   "file_extension": ".py",
   "mimetype": "text/x-python",
   "name": "python",
   "nbconvert_exporter": "python",
   "pygments_lexer": "ipython3",
   "version": "3.10.12"
  }
 },
 "nbformat": 4,
 "nbformat_minor": 5
}
