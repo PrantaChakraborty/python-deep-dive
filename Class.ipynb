{
 "cells": [
  {
   "cell_type": "code",
   "execution_count": 11,
   "id": "cb562d76",
   "metadata": {},
   "outputs": [],
   "source": [
    "class Rectangle:\n",
    "    def __init__(self, width, height):\n",
    "        self.width = width\n",
    "        self.height = height\n",
    "        \n",
    "    def area(self):\n",
    "        return self.width * self.height\n",
    "    \n",
    "    def perimeter(self):\n",
    "        return 2 * (self.width + self.height)\n",
    "    \n",
    "    def __str__(self):\n",
    "        return f\"Rectangle: width={self.width}, height={self.height}\"\n",
    "    def __repr__(self):\n",
    "        return f'Rectangle({self.width}, {self.height})'"
   ]
  },
  {
   "cell_type": "code",
   "execution_count": 12,
   "id": "3aaed962",
   "metadata": {},
   "outputs": [],
   "source": [
    "r1 = Rectangle(10, 20)"
   ]
  },
  {
   "cell_type": "code",
   "execution_count": 13,
   "id": "81b54183",
   "metadata": {},
   "outputs": [
    {
     "data": {
      "text/plain": [
       "'Rectangle: width=10, height=20'"
      ]
     },
     "execution_count": 13,
     "metadata": {},
     "output_type": "execute_result"
    }
   ],
   "source": [
    "str(r1)"
   ]
  },
  {
   "cell_type": "code",
   "execution_count": 14,
   "id": "70e84af0",
   "metadata": {},
   "outputs": [
    {
     "data": {
      "text/plain": [
       "Rectangle(10, 20)"
      ]
     },
     "execution_count": 14,
     "metadata": {},
     "output_type": "execute_result"
    }
   ],
   "source": [
    "r1"
   ]
  },
  {
   "cell_type": "code",
   "execution_count": 15,
   "id": "75557a63",
   "metadata": {},
   "outputs": [],
   "source": [
    "r2 = Rectangle(10, 20)"
   ]
  },
  {
   "cell_type": "code",
   "execution_count": 16,
   "id": "f8ae3035",
   "metadata": {},
   "outputs": [
    {
     "data": {
      "text/plain": [
       "False"
      ]
     },
     "execution_count": 16,
     "metadata": {},
     "output_type": "execute_result"
    }
   ],
   "source": [
    "r1 == r2"
   ]
  },
  {
   "cell_type": "code",
   "execution_count": 25,
   "id": "93707d3a",
   "metadata": {},
   "outputs": [],
   "source": [
    "class Rectangle:\n",
    "    def __init__(self, width, height):\n",
    "        self.width = width\n",
    "        self.height = height\n",
    "        \n",
    "    def area(self):\n",
    "        return self.width * self.height\n",
    "    \n",
    "    def perimeter(self):\n",
    "        return 2 * (self.width + self.height)\n",
    "    \n",
    "    def __str__(self):\n",
    "        return f\"Rectangle: width={self.width}, height={self.height}\"\n",
    "    \n",
    "    def __repr__(self):\n",
    "        return f'Rectangle({self.width}, {self.height})'\n",
    "    \n",
    "    def __eq__(self, otherobj):\n",
    "        # to check wheather two objects are euqal or not\n",
    "        return self.width == otherobj.width and self.height == otherobj.height\n",
    "    "
   ]
  },
  {
   "cell_type": "code",
   "execution_count": 26,
   "id": "304b65f7",
   "metadata": {},
   "outputs": [],
   "source": [
    "r1 = Rectangle(10, 20)\n",
    "r2 = Rectangle(10, 20)"
   ]
  },
  {
   "cell_type": "code",
   "execution_count": 29,
   "id": "56937f4e",
   "metadata": {},
   "outputs": [
    {
     "data": {
      "text/plain": [
       "False"
      ]
     },
     "execution_count": 29,
     "metadata": {},
     "output_type": "execute_result"
    }
   ],
   "source": [
    "r1 is r2"
   ]
  },
  {
   "cell_type": "code",
   "execution_count": 30,
   "id": "196fc35c",
   "metadata": {},
   "outputs": [
    {
     "data": {
      "text/plain": [
       "True"
      ]
     },
     "execution_count": 30,
     "metadata": {},
     "output_type": "execute_result"
    }
   ],
   "source": [
    "r1 == r2"
   ]
  },
  {
   "cell_type": "markdown",
   "id": "cc02a623",
   "metadata": {},
   "source": [
    "check the other object is an instance of Rectangle or not"
   ]
  },
  {
   "cell_type": "code",
   "execution_count": 58,
   "id": "5884f6f6",
   "metadata": {},
   "outputs": [],
   "source": [
    "class Rectangle:\n",
    "    def __init__(self, width, height):\n",
    "        self.width = width\n",
    "        self.height = height\n",
    "        \n",
    "    def area(self):\n",
    "        return self.width * self.height\n",
    "    \n",
    "    def perimeter(self):\n",
    "        return 2 * (self.width + self.height)\n",
    "    \n",
    "    def __str__(self):\n",
    "        return f\"Rectangle: width={self.width}, height={self.height}\"\n",
    "    \n",
    "    def __repr__(self):\n",
    "        return f'Rectangle({self.width}, {self.height})'\n",
    "    \n",
    "    def __eq__(self, otherobj):\n",
    "        # to check wheather two objects are euqal or not\n",
    "        if isinstance(otherobj, Rectangle):\n",
    "            return self.width == otherobj.width and self.height == otherobj.height\n",
    "        else:\n",
    "            return False"
   ]
  },
  {
   "cell_type": "code",
   "execution_count": 59,
   "id": "d0edd157",
   "metadata": {},
   "outputs": [],
   "source": [
    "r1 = Rectangle(10, 20)\n",
    "r2 = Rectangle(10, 20)"
   ]
  },
  {
   "cell_type": "code",
   "execution_count": 60,
   "id": "d1131fa3",
   "metadata": {},
   "outputs": [
    {
     "data": {
      "text/plain": [
       "True"
      ]
     },
     "execution_count": 60,
     "metadata": {},
     "output_type": "execute_result"
    }
   ],
   "source": [
    "r1 == r2"
   ]
  },
  {
   "cell_type": "code",
   "execution_count": 61,
   "id": "d5bec912",
   "metadata": {},
   "outputs": [
    {
     "data": {
      "text/plain": [
       "False"
      ]
     },
     "execution_count": 61,
     "metadata": {},
     "output_type": "execute_result"
    }
   ],
   "source": [
    "r1 == 100"
   ]
  },
  {
   "cell_type": "markdown",
   "id": "8b01ea02",
   "metadata": {},
   "source": [
    "class with private variable, using getter & setter ( not a good practice)"
   ]
  },
  {
   "cell_type": "code",
   "execution_count": 81,
   "id": "ed87b03b",
   "metadata": {},
   "outputs": [],
   "source": [
    "class Rectangle:\n",
    "    def __init__(self, width, height):\n",
    "        self._width = width\n",
    "        self._height = height\n",
    "        \n",
    "    def get_width(self):\n",
    "        return self._width\n",
    "    \n",
    "    def set_width(self, width):\n",
    "        if width <= 0:\n",
    "            raise ValueError('Width must be positive')\n",
    "        else:\n",
    "            self._width = width\n",
    "    \n",
    "    def get_height(self):\n",
    "        return self._height\n",
    "    \n",
    "    def set_height(self, height):\n",
    "        self._height = height\n",
    "    \n",
    "    def __str__(self):\n",
    "        return f\"Rectangle: width={self._width}, height={self._height}\"\n",
    "    \n",
    "    def __repr__(self):\n",
    "        return f'Rectangle({self._width}, {self.height})'\n",
    "    \n",
    "    def __eq__(self, otherobj):\n",
    "        # to check wheather two objects are euqal or not\n",
    "        if isinstance(otherobj, Rectangle):\n",
    "            return self._width == otherobj._width and self._height == otherobj._height\n",
    "        else:\n",
    "            return False"
   ]
  },
  {
   "cell_type": "markdown",
   "id": "014629dc",
   "metadata": {},
   "source": [
    "Class with private variable and with @property \n",
    "using setter to input validation"
   ]
  },
  {
   "cell_type": "code",
   "execution_count": 89,
   "id": "0bbc3edd",
   "metadata": {},
   "outputs": [],
   "source": [
    "class Rectangle:\n",
    "    def __init__(self, width, height):\n",
    "        self.width = width\n",
    "        self.height = height\n",
    "       \n",
    "   # getter \n",
    "    @property\n",
    "    def width(self):\n",
    "        return self._width\n",
    "    \n",
    "    #setter\n",
    "    @width.setter\n",
    "    def width(self, width):\n",
    "        if width <= 0:\n",
    "            raise ValueError('Width must be positive.')\n",
    "        else:\n",
    "            self._width = width\n",
    "        \n",
    "    \n",
    "    @property\n",
    "    def height(self):\n",
    "        return self._height\n",
    "    \n",
    "        #setter\n",
    "    @height.setter\n",
    "    def height(self, height):\n",
    "        if height <= 0:\n",
    "            raise ValueError('Height must be positive.')\n",
    "        else:\n",
    "            self._height = height\n",
    "    \n",
    "    \n",
    "    def __str__(self):\n",
    "        return f\"Rectangle: width={self._width}, height={self.height}\"\n",
    "    \n",
    "    def __repr__(self):\n",
    "        return f'Rectangle({self._width}, {self.height})'\n",
    "    \n",
    "    def __eq__(self, otherobj):\n",
    "        # to check wheather two objects are euqal or not\n",
    "        if isinstance(otherobj, Rectangle):\n",
    "            return self._width == otherobj._width and self._height == otherobj._height\n",
    "        else:\n",
    "            return False"
   ]
  },
  {
   "cell_type": "code",
   "execution_count": 88,
   "id": "91584a11",
   "metadata": {},
   "outputs": [],
   "source": [
    "r1 = Rectangle(10, 20)"
   ]
  },
  {
   "cell_type": "code",
   "execution_count": 90,
   "id": "5231f081",
   "metadata": {},
   "outputs": [
    {
     "data": {
      "text/plain": [
       "10"
      ]
     },
     "execution_count": 90,
     "metadata": {},
     "output_type": "execute_result"
    }
   ],
   "source": [
    "r1.width   # called the width method"
   ]
  },
  {
   "cell_type": "code",
   "execution_count": 91,
   "id": "0aca824e",
   "metadata": {},
   "outputs": [
    {
     "ename": "ValueError",
     "evalue": "Height must be positive.",
     "output_type": "error",
     "traceback": [
      "\u001b[0;31m---------------------------------------------------------------------------\u001b[0m",
      "\u001b[0;31mValueError\u001b[0m                                Traceback (most recent call last)",
      "Cell \u001b[0;32mIn[91], line 1\u001b[0m\n\u001b[0;32m----> 1\u001b[0m \u001b[43mr1\u001b[49m\u001b[38;5;241;43m.\u001b[39;49m\u001b[43mheight\u001b[49m \u001b[38;5;241m=\u001b[39m \u001b[38;5;241m0\u001b[39m\n",
      "Cell \u001b[0;32mIn[89], line 28\u001b[0m, in \u001b[0;36mRectangle.height\u001b[0;34m(self, height)\u001b[0m\n\u001b[1;32m     25\u001b[0m \u001b[38;5;129m@height\u001b[39m\u001b[38;5;241m.\u001b[39msetter\n\u001b[1;32m     26\u001b[0m \u001b[38;5;28;01mdef\u001b[39;00m \u001b[38;5;21mheight\u001b[39m(\u001b[38;5;28mself\u001b[39m, height):\n\u001b[1;32m     27\u001b[0m     \u001b[38;5;28;01mif\u001b[39;00m height \u001b[38;5;241m<\u001b[39m\u001b[38;5;241m=\u001b[39m \u001b[38;5;241m0\u001b[39m:\n\u001b[0;32m---> 28\u001b[0m         \u001b[38;5;28;01mraise\u001b[39;00m \u001b[38;5;167;01mValueError\u001b[39;00m(\u001b[38;5;124m'\u001b[39m\u001b[38;5;124mHeight must be positive.\u001b[39m\u001b[38;5;124m'\u001b[39m)\n\u001b[1;32m     29\u001b[0m     \u001b[38;5;28;01melse\u001b[39;00m:\n\u001b[1;32m     30\u001b[0m         \u001b[38;5;28mself\u001b[39m\u001b[38;5;241m.\u001b[39m_height \u001b[38;5;241m=\u001b[39m height\n",
      "\u001b[0;31mValueError\u001b[0m: Height must be positive."
     ]
    }
   ],
   "source": [
    "r1.height = 0"
   ]
  },
  {
   "cell_type": "code",
   "execution_count": null,
   "id": "b5c97a94",
   "metadata": {},
   "outputs": [],
   "source": []
  }
 ],
 "metadata": {
  "kernelspec": {
   "display_name": "Python 3 (ipykernel)",
   "language": "python",
   "name": "python3"
  },
  "language_info": {
   "codemirror_mode": {
    "name": "ipython",
    "version": 3
   },
   "file_extension": ".py",
   "mimetype": "text/x-python",
   "name": "python",
   "nbconvert_exporter": "python",
   "pygments_lexer": "ipython3",
   "version": "3.10.12"
  }
 },
 "nbformat": 4,
 "nbformat_minor": 5
}
