{
 "cells": [
  {
   "cell_type": "markdown",
   "id": "6bb711c1",
   "metadata": {},
   "source": [
    "immutable: tuple, string, numbers(int, float, booleans), frozen set, user defined classes\n",
    "\n",
    "mutable: List, set, dict, user defined class"
   ]
  },
  {
   "cell_type": "code",
   "execution_count": 2,
   "id": "779c372b",
   "metadata": {},
   "outputs": [],
   "source": [
    "a = 10"
   ]
  },
  {
   "cell_type": "code",
   "execution_count": 3,
   "id": "ebb57da6",
   "metadata": {},
   "outputs": [
    {
     "data": {
      "text/plain": [
       "140628227785232"
      ]
     },
     "execution_count": 3,
     "metadata": {},
     "output_type": "execute_result"
    }
   ],
   "source": [
    "id(a)"
   ]
  },
  {
   "cell_type": "code",
   "execution_count": 4,
   "id": "ed20a0e5",
   "metadata": {},
   "outputs": [],
   "source": [
    "a = 12  # now the memory address will be changed"
   ]
  },
  {
   "cell_type": "code",
   "execution_count": 5,
   "id": "aa455463",
   "metadata": {},
   "outputs": [
    {
     "data": {
      "text/plain": [
       "140628227785296"
      ]
     },
     "execution_count": 5,
     "metadata": {},
     "output_type": "execute_result"
    }
   ],
   "source": [
    "id(a)"
   ]
  },
  {
   "cell_type": "code",
   "execution_count": 11,
   "id": "d587c264",
   "metadata": {},
   "outputs": [],
   "source": [
    " my_list = [1, 2, 3]"
   ]
  },
  {
   "cell_type": "markdown",
   "id": "35b7cfe4",
   "metadata": {},
   "source": [
    "List are mutable, thats why modifying the list doesn't change the memory addres"
   ]
  },
  {
   "cell_type": "code",
   "execution_count": 12,
   "id": "ea4930d4",
   "metadata": {},
   "outputs": [
    {
     "data": {
      "text/plain": [
       "140628105317056"
      ]
     },
     "execution_count": 12,
     "metadata": {},
     "output_type": "execute_result"
    }
   ],
   "source": [
    "id(my_list)"
   ]
  },
  {
   "cell_type": "code",
   "execution_count": 15,
   "id": "5c3b57cb",
   "metadata": {},
   "outputs": [],
   "source": [
    "my_list.append(4) # modifying the internal state"
   ]
  },
  {
   "cell_type": "code",
   "execution_count": 16,
   "id": "752ac6fa",
   "metadata": {},
   "outputs": [
    {
     "data": {
      "text/plain": [
       "140628105317056"
      ]
     },
     "execution_count": 16,
     "metadata": {},
     "output_type": "execute_result"
    }
   ],
   "source": [
    "id(my_list)"
   ]
  },
  {
   "cell_type": "code",
   "execution_count": 17,
   "id": "d89d7c05",
   "metadata": {},
   "outputs": [],
   "source": [
    "my_list_1 = [1, 2, 3]"
   ]
  },
  {
   "cell_type": "code",
   "execution_count": 18,
   "id": "e7a892fa",
   "metadata": {},
   "outputs": [
    {
     "data": {
      "text/plain": [
       "140628105232768"
      ]
     },
     "execution_count": 18,
     "metadata": {},
     "output_type": "execute_result"
    }
   ],
   "source": [
    "id(my_list_1)"
   ]
  },
  {
   "cell_type": "code",
   "execution_count": 21,
   "id": "d94bd527",
   "metadata": {},
   "outputs": [],
   "source": [
    "my_list_1 = my_list_1 + [4]  # not modifying the internal state, creating a new list object"
   ]
  },
  {
   "cell_type": "code",
   "execution_count": 22,
   "id": "97b6fccc",
   "metadata": {},
   "outputs": [
    {
     "data": {
      "text/plain": [
       "140628105246464"
      ]
     },
     "execution_count": 22,
     "metadata": {},
     "output_type": "execute_result"
    }
   ],
   "source": [
    "id(my_list_1)"
   ]
  },
  {
   "cell_type": "code",
   "execution_count": 23,
   "id": "b6118047",
   "metadata": {},
   "outputs": [],
   "source": [
    "t = (1, 2, 3)"
   ]
  },
  {
   "cell_type": "code",
   "execution_count": 24,
   "id": "2e2004de",
   "metadata": {},
   "outputs": [
    {
     "data": {
      "text/plain": [
       "140628165930624"
      ]
     },
     "execution_count": 24,
     "metadata": {},
     "output_type": "execute_result"
    }
   ],
   "source": [
    "id(t)"
   ]
  },
  {
   "cell_type": "code",
   "execution_count": 25,
   "id": "aae4a1fb",
   "metadata": {},
   "outputs": [
    {
     "data": {
      "text/plain": [
       "1"
      ]
     },
     "execution_count": 25,
     "metadata": {},
     "output_type": "execute_result"
    }
   ],
   "source": [
    "t[0]"
   ]
  },
  {
   "cell_type": "code",
   "execution_count": 26,
   "id": "29047c44",
   "metadata": {},
   "outputs": [
    {
     "data": {
      "text/plain": [
       "140628227784944"
      ]
     },
     "execution_count": 26,
     "metadata": {},
     "output_type": "execute_result"
    }
   ],
   "source": [
    "id(t[0])"
   ]
  },
  {
   "cell_type": "code",
   "execution_count": 1,
   "id": "d75a79f2",
   "metadata": {},
   "outputs": [],
   "source": [
    "t = ([1, 2], [3, 4])"
   ]
  },
  {
   "cell_type": "code",
   "execution_count": 2,
   "id": "2552f8b0",
   "metadata": {},
   "outputs": [
    {
     "data": {
      "text/plain": [
       "139941443655808"
      ]
     },
     "execution_count": 2,
     "metadata": {},
     "output_type": "execute_result"
    }
   ],
   "source": [
    "id(t)"
   ]
  },
  {
   "cell_type": "code",
   "execution_count": 6,
   "id": "43b1c002",
   "metadata": {},
   "outputs": [],
   "source": [
    "t[0].append(3) # note: just because the tuple is not  mutable doesn't mean the context is not mutable"
   ]
  },
  {
   "cell_type": "code",
   "execution_count": 7,
   "id": "d98bf022",
   "metadata": {},
   "outputs": [
    {
     "data": {
      "text/plain": [
       "([1, 2, 3, 3, 3], [3, 4])"
      ]
     },
     "execution_count": 7,
     "metadata": {},
     "output_type": "execute_result"
    }
   ],
   "source": [
    "t"
   ]
  },
  {
   "cell_type": "code",
   "execution_count": null,
   "id": "182927a9",
   "metadata": {},
   "outputs": [],
   "source": []
  }
 ],
 "metadata": {
  "kernelspec": {
   "display_name": "Python 3 (ipykernel)",
   "language": "python",
   "name": "python3"
  },
  "language_info": {
   "codemirror_mode": {
    "name": "ipython",
    "version": 3
   },
   "file_extension": ".py",
   "mimetype": "text/x-python",
   "name": "python",
   "nbconvert_exporter": "python",
   "pygments_lexer": "ipython3",
   "version": "3.10.6"
  }
 },
 "nbformat": 4,
 "nbformat_minor": 5
}
