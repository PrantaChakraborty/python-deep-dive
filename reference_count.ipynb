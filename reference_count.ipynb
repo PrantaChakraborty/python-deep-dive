{
 "cells": [
  {
   "cell_type": "code",
   "execution_count": 11,
   "id": "2432c065",
   "metadata": {},
   "outputs": [
    {
     "data": {
      "text/plain": [
       "283"
      ]
     },
     "execution_count": 11,
     "metadata": {},
     "output_type": "execute_result"
    }
   ],
   "source": [
    "import sys\n",
    "\n",
    "my_var = 10\n",
    "my_another_var = my_var  # pointing the memory address of my_var\n",
    "\n",
    "# incrementing the reference count by 1 when we call the getrefcount, because variable are pass by reference\n",
    "sys.getrefcount(my_var)  \n"
   ]
  },
  {
   "cell_type": "code",
   "execution_count": 16,
   "id": "17ae7087",
   "metadata": {},
   "outputs": [],
   "source": [
    "import ctypes\n",
    "# will return the exact reference count\n",
    "def ref_count(address: int):\n",
    "    return ctypes.c_long.from_address(address).value"
   ]
  },
  {
   "cell_type": "code",
   "execution_count": 17,
   "id": "8968bba2",
   "metadata": {},
   "outputs": [
    {
     "data": {
      "text/plain": [
       "279"
      ]
     },
     "execution_count": 17,
     "metadata": {},
     "output_type": "execute_result"
    }
   ],
   "source": [
    "ref_count(id(my_var))"
   ]
  },
  {
   "cell_type": "code",
   "execution_count": 35,
   "id": "2adc5ff0",
   "metadata": {},
   "outputs": [
    {
     "data": {
      "text/plain": [
       "1"
      ]
     },
     "execution_count": 35,
     "metadata": {},
     "output_type": "execute_result"
    }
   ],
   "source": [
    "my_list = [1, 2, 3]\n",
    "ref_count(id(my_list))"
   ]
  },
  {
   "cell_type": "code",
   "execution_count": 36,
   "id": "9823e5cc",
   "metadata": {},
   "outputs": [],
   "source": [
    "my_list2 = my_list"
   ]
  },
  {
   "cell_type": "code",
   "execution_count": 37,
   "id": "1d400b57",
   "metadata": {},
   "outputs": [
    {
     "data": {
      "text/plain": [
       "140262162713664"
      ]
     },
     "execution_count": 37,
     "metadata": {},
     "output_type": "execute_result"
    }
   ],
   "source": [
    "id(my_list2)"
   ]
  },
  {
   "cell_type": "code",
   "execution_count": 38,
   "id": "12c84617",
   "metadata": {},
   "outputs": [
    {
     "data": {
      "text/plain": [
       "2"
      ]
     },
     "execution_count": 38,
     "metadata": {},
     "output_type": "execute_result"
    }
   ],
   "source": [
    "ref_count(id(my_list2))"
   ]
  },
  {
   "cell_type": "code",
   "execution_count": 39,
   "id": "7da54834",
   "metadata": {},
   "outputs": [
    {
     "data": {
      "text/plain": [
       "1"
      ]
     },
     "execution_count": 39,
     "metadata": {},
     "output_type": "execute_result"
    }
   ],
   "source": [
    "my_list2 = None\n",
    "ref_count(id(my_list))"
   ]
  },
  {
   "cell_type": "code",
   "execution_count": 40,
   "id": "aff57409",
   "metadata": {},
   "outputs": [],
   "source": [
    "my_list_id = id(my_list)\n",
    "my_list = None"
   ]
  },
  {
   "cell_type": "code",
   "execution_count": 41,
   "id": "68cd2348",
   "metadata": {},
   "outputs": [
    {
     "data": {
      "text/plain": [
       "0"
      ]
     },
     "execution_count": 41,
     "metadata": {},
     "output_type": "execute_result"
    }
   ],
   "source": [
    "ref_count(my_list_id)"
   ]
  },
  {
   "cell_type": "code",
   "execution_count": null,
   "id": "6a059315",
   "metadata": {},
   "outputs": [],
   "source": []
  }
 ],
 "metadata": {
  "kernelspec": {
   "display_name": "Python 3 (ipykernel)",
   "language": "python",
   "name": "python3"
  },
  "language_info": {
   "codemirror_mode": {
    "name": "ipython",
    "version": 3
   },
   "file_extension": ".py",
   "mimetype": "text/x-python",
   "name": "python",
   "nbconvert_exporter": "python",
   "pygments_lexer": "ipython3",
   "version": "3.10.6"
  }
 },
 "nbformat": 4,
 "nbformat_minor": 5
}
