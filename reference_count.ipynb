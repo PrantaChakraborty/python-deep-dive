{
 "cells": [
  {
   "cell_type": "code",
   "execution_count": 11,
   "id": "404d12d5",
   "metadata": {},
   "outputs": [
    {
     "data": {
      "text/plain": [
       "283"
      ]
     },
     "execution_count": 11,
     "metadata": {},
     "output_type": "execute_result"
    }
   ],
   "source": [
    "import sys\n",
    "\n",
    "my_var = 10\n",
    "my_another_var = my_var  # pointing the memory address of my_var\n",
    "\n",
    "# incrementing the reference count by 1 when we call the getrefcount, because variable are pass by reference\n",
    "sys.getrefcount(my_var)  \n"
   ]
  },
  {
   "cell_type": "code",
   "execution_count": 16,
   "id": "efe77e55",
   "metadata": {},
   "outputs": [],
   "source": [
    "import ctypes\n",
    "# will return the exact reference count\n",
    "def ref_count(address: int):\n",
    "    return ctypes.c_long.from_address(address).value"
   ]
  },
  {
   "cell_type": "code",
   "execution_count": 17,
   "id": "3ee0063a",
   "metadata": {},
   "outputs": [
    {
     "data": {
      "text/plain": [
       "279"
      ]
     },
     "execution_count": 17,
     "metadata": {},
     "output_type": "execute_result"
    }
   ],
   "source": [
    "ref_count(id(my_var))"
   ]
  },
  {
   "cell_type": "code",
   "execution_count": 45,
   "id": "0fb50bd1",
   "metadata": {},
   "outputs": [
    {
     "data": {
      "text/plain": [
       "1"
      ]
     },
     "execution_count": 45,
     "metadata": {},
     "output_type": "execute_result"
    }
   ],
   "source": [
    "my_list = [1, 2, 3]\n",
    "ref_count(id(my_list))"
   ]
  },
  {
   "cell_type": "code",
   "execution_count": 46,
   "id": "c8168dea",
   "metadata": {},
   "outputs": [],
   "source": [
    "my_list2 = my_list"
   ]
  },
  {
   "cell_type": "code",
   "execution_count": 47,
   "id": "eb1a63d7",
   "metadata": {},
   "outputs": [
    {
     "data": {
      "text/plain": [
       "140262162708928"
      ]
     },
     "execution_count": 47,
     "metadata": {},
     "output_type": "execute_result"
    }
   ],
   "source": [
    "id(my_list2)"
   ]
  },
  {
   "cell_type": "code",
   "execution_count": 48,
   "id": "6652019e",
   "metadata": {},
   "outputs": [
    {
     "data": {
      "text/plain": [
       "2"
      ]
     },
     "execution_count": 48,
     "metadata": {},
     "output_type": "execute_result"
    }
   ],
   "source": [
    "ref_count(id(my_list2))"
   ]
  },
  {
   "cell_type": "code",
   "execution_count": 49,
   "id": "54b4c98f",
   "metadata": {},
   "outputs": [
    {
     "data": {
      "text/plain": [
       "1"
      ]
     },
     "execution_count": 49,
     "metadata": {},
     "output_type": "execute_result"
    }
   ],
   "source": [
    "my_list2 = None\n",
    "ref_count(id(my_list))"
   ]
  },
  {
   "cell_type": "code",
   "execution_count": 50,
   "id": "58d57b02",
   "metadata": {},
   "outputs": [],
   "source": [
    "my_list_id = id(my_list)\n",
    "my_list = None"
   ]
  },
  {
   "cell_type": "code",
   "execution_count": 51,
   "id": "01062e79",
   "metadata": {},
   "outputs": [
    {
     "data": {
      "text/plain": [
       "0"
      ]
     },
     "execution_count": 51,
     "metadata": {},
     "output_type": "execute_result"
    }
   ],
   "source": [
    "ref_count(my_list_id)"
   ]
  },
  {
   "cell_type": "code",
   "execution_count": 52,
   "id": "b5ad94fb",
   "metadata": {},
   "outputs": [
    {
     "data": {
      "text/plain": [
       "0"
      ]
     },
     "execution_count": 52,
     "metadata": {},
     "output_type": "execute_result"
    }
   ],
   "source": [
    "ref_count(my_list_id)"
   ]
  },
  {
   "cell_type": "code",
   "execution_count": null,
   "id": "e75dad16",
   "metadata": {},
   "outputs": [],
   "source": []
  }
 ],
 "metadata": {
  "kernelspec": {
   "display_name": "Python 3 (ipykernel)",
   "language": "python",
   "name": "python3"
  },
  "language_info": {
   "codemirror_mode": {
    "name": "ipython",
    "version": 3
   },
   "file_extension": ".py",
   "mimetype": "text/x-python",
   "name": "python",
   "nbconvert_exporter": "python",
   "pygments_lexer": "ipython3",
   "version": "3.10.6"
  }
 },
 "nbformat": 4,
 "nbformat_minor": 5
}
